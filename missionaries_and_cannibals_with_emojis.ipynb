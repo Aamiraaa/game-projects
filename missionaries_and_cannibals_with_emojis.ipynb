{
  "nbformat": 4,
  "nbformat_minor": 0,
  "metadata": {
    "colab": {
      "provenance": []
    },
    "kernelspec": {
      "name": "python3",
      "display_name": "Python 3"
    },
    "language_info": {
      "name": "python"
    }
  },
  "cells": [
    {
      "cell_type": "code",
      "source": [
        "from IPython.display import clear_output\n",
        "\n",
        "print('\\U0001f482')\n",
        "print('\\U0001f479')\n",
        "print('\\U0001f30a''\\U0001f6A2')"
      ],
      "metadata": {
        "colab": {
          "base_uri": "https://localhost:8080/"
        },
        "id": "Mbxvxki_Yuhs",
        "outputId": "045b09d5-dc41-4e14-8efc-0cb6760da55f"
      },
      "execution_count": null,
      "outputs": [
        {
          "output_type": "stream",
          "name": "stdout",
          "text": [
            "💂\n",
            "👹\n",
            "🌊🚢\n"
          ]
        }
      ]
    },
    {
      "cell_type": "code",
      "execution_count": null,
      "metadata": {
        "id": "FkyBH2UvXUZw",
        "colab": {
          "base_uri": "https://localhost:8080/"
        },
        "outputId": "6c02ac1c-a8d7-4264-e3f3-04ed2579abb5"
      },
      "outputs": [
        {
          "output_type": "stream",
          "name": "stdout",
          "text": [
            "  | 🌊🌊🌊🌊🌊 🚢 | 💂💂💂 👹👹👹\n",
            "Enter the number of missionaries : 0\n",
            "Enter the number of cannibals : 2\n",
            "move\n",
            "The boat is on Right side\n",
            " 👹👹 | 🚢 🌊🌊🌊🌊🌊 | 💂💂💂 👹\n",
            "Enter the number of missionaries : 0\n",
            "Enter the number of cannibals : 1\n",
            "move\n",
            "The boat is on left side\n",
            " 👹 | 🌊🌊🌊🌊🌊 🚢 | 💂💂💂 👹👹\n",
            "Enter the number of missionaries : 0\n",
            "Enter the number of cannibals : 2\n",
            "move\n",
            "The boat is on Right side\n",
            " 👹👹👹 | 🚢 🌊🌊🌊🌊🌊 | 💂💂💂 \n",
            "Enter the number of missionaries : 0\n",
            "Enter the number of cannibals : 1\n",
            "move\n",
            "The boat is on left side\n",
            " 👹👹 | 🌊🌊🌊🌊🌊 🚢 | 💂💂💂 👹\n",
            "Enter the number of missionaries : 2\n",
            "Enter the number of cannibals : 0\n",
            "move\n",
            "The boat is on Right side\n",
            "💂💂 👹👹 | 🚢 🌊🌊🌊🌊🌊 | 💂 👹\n",
            "Enter the number of missionaries : 1\n",
            "Enter the number of cannibals : 1\n",
            "move\n",
            "The boat is on left side\n",
            "💂 👹 | 🌊🌊🌊🌊🌊 🚢 | 💂💂 👹👹\n",
            "Enter the number of missionaries : 2\n",
            "Enter the number of cannibals : 0\n",
            "move\n",
            "The boat is on Right side\n",
            "💂💂💂 👹 | 🚢 🌊🌊🌊🌊🌊 |  👹👹\n",
            "Enter the number of missionaries : 0\n",
            "Enter the number of cannibals : 1\n",
            "move\n",
            "The boat is on left side\n",
            "💂💂💂  | 🌊🌊🌊🌊🌊 🚢 |  👹👹👹\n",
            "Enter the number of missionaries : 0\n",
            "Enter the number of cannibals : 2\n",
            "move\n",
            "The boat is on Right side\n",
            "💂💂💂 👹👹 | 🚢 🌊🌊🌊🌊🌊 |  👹\n",
            "Enter the number of missionaries : 0\n",
            "Enter the number of cannibals : 1\n",
            "move\n",
            "The boat is on left side\n",
            "💂💂💂 👹 | 🌊🌊🌊🌊🌊 🚢 |  👹👹\n",
            "Enter the number of missionaries : 0\n",
            "Enter the number of cannibals : 2\n",
            "move\n",
            "The boat is on Right side\n",
            "💂💂💂 👹👹👹 | 🚢 🌊🌊🌊🌊🌊 |  \n",
            "YOU WIN\n"
          ]
        }
      ],
      "source": [
        "from IPython.display import clear_output\n",
        "#### Your code ####\n",
        "\n",
        "boat_side = 'Right'\n",
        "missionaries_on_right = 3\n",
        "cannibals_on_right = 3\n",
        "missionaries_on_left = 0\n",
        "cannibals_on_left = 0\n",
        "\n",
        "#### Your code ####\n",
        "print(\"\\U0001f482\" *missionaries_on_left,\"\\U0001f479\" * cannibals_on_left,\"|\",5*\"\\U0001f30a\",\"\\U0001f6A2\",\"|\",\"\\U0001f482\" * missionaries_on_right,\"\\U0001f479\" * cannibals_on_right)\n",
        "while True:\n",
        "    ### Your code ###\n",
        "    missionaries = int(input(\"Enter the number of missionaries : \"))\n",
        "    cannibals = int(input(\"Enter the number of cannibals : \"))\n",
        "\n",
        "    ### Your code ###\n",
        "    if 1<=(missionaries + cannibals) <= 2:\n",
        "      print(\"move\")\n",
        "    else:\n",
        "      print(\"Invalid move 1\")\n",
        "      continue\n",
        "\n",
        "    ### Your code ###\n",
        "    if boat_side  == 'Right':\n",
        "      print(\"The boat is on Right side\")\n",
        "\n",
        "          ### Your code ###\n",
        "      if missionaries > missionaries_on_right or cannibals > cannibals_on_right:\n",
        "        print(\"Invalid move 2\")\n",
        "        continue\n",
        "\n",
        "\n",
        "      ### Your code ###\n",
        "      boat_side = 'Left'\n",
        "      missionaries_on_right -= missionaries\n",
        "      cannibals_on_right -= cannibals\n",
        "      missionaries_on_left += missionaries\n",
        "      cannibals_on_left += cannibals\n",
        "\n",
        "      ### Your code ###\n",
        "      print(\"\\U0001f482\" * missionaries_on_left,\"\\U0001f479\" * cannibals_on_left,\"|\",\"\\U0001f6A2\",5*\"\\U0001f30a\",\"|\",\"\\U0001f482\" * missionaries_on_right,\"\\U0001f479\" * cannibals_on_right)\n",
        "\n",
        "    ### Your code ###\n",
        "    elif boat_side == 'Left':\n",
        "      print(\"The boat is on left side\")\n",
        "\n",
        "      ### Your code ###\n",
        "      if missionaries > missionaries_on_left or cannibals > cannibals_on_left:\n",
        "        print(\"Invalid move 2\")\n",
        "        continue\n",
        "\n",
        "        ### Your code ###\n",
        "      boat_side = 'Right'\n",
        "      missionaries_on_right += missionaries\n",
        "      cannibals_on_right += cannibals\n",
        "      missionaries_on_left -= missionaries\n",
        "      cannibals_on_left -= cannibals\n",
        "\n",
        "      ### Your code ###\n",
        "      print(\"\\U0001f482\" * missionaries_on_left,\"\\U0001f479\" * cannibals_on_left,\"|\",5*\"\\U0001f30a\",\"\\U0001f6A2\",\"|\",\"\\U0001f482\" * missionaries_on_right,\"\\U0001f479\" * cannibals_on_right)\n",
        "\n",
        "    ### Your code ###\n",
        "    if  missionaries_on_left < cannibals_on_left and  missionaries_on_left > 0:\n",
        "      print('YOU LOSE')\n",
        "      break\n",
        "    elif  missionaries_on_right < cannibals_on_right and missionaries_on_right > 0:\n",
        "      print('YOU LOSE')\n",
        "      break\n",
        "    ### Your code ###\n",
        "    elif  missionaries_on_left == 3 and cannibals_on_left == 3:\n",
        "      print('YOU WIN')\n",
        "      break"
      ]
    },
    {
      "cell_type": "code",
      "source": [
        "'\\U0001f482' '\\U0001f479' '\\U0001f30a''\\U0001f6A2'"
      ],
      "metadata": {
        "colab": {
          "base_uri": "https://localhost:8080/",
          "height": 36
        },
        "id": "V4uzhUfYRzAJ",
        "outputId": "5ff2662e-64f7-43bf-f580-987492d7a74b"
      },
      "execution_count": null,
      "outputs": [
        {
          "output_type": "execute_result",
          "data": {
            "text/plain": [
              "'💂👹🌊🚢'"
            ],
            "application/vnd.google.colaboratory.intrinsic+json": {
              "type": "string"
            }
          },
          "metadata": {},
          "execution_count": 10
        }
      ]
    },
    {
      "cell_type": "code",
      "source": [],
      "metadata": {
        "id": "4pDFR4rvWojQ"
      },
      "execution_count": null,
      "outputs": []
    }
  ]
}