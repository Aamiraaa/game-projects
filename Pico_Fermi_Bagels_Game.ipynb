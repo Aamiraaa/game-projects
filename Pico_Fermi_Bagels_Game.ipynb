{
  "nbformat": 4,
  "nbformat_minor": 0,
  "metadata": {
    "colab": {
      "provenance": []
    },
    "kernelspec": {
      "name": "python3",
      "display_name": "Python 3"
    },
    "language_info": {
      "name": "python"
    }
  },
  "cells": [
    {
      "cell_type": "code",
      "source": [],
      "metadata": {
        "id": "xmPEbDCFteWz"
      },
      "execution_count": null,
      "outputs": []
    },
    {
      "cell_type": "code",
      "execution_count": null,
      "metadata": {
        "colab": {
          "base_uri": "https://localhost:8080/"
        },
        "id": "DsImQjaBq28E",
        "outputId": "7b892ed4-92cf-43a1-a34c-65afc2b12fc2"
      },
      "outputs": [
        {
          "output_type": "stream",
          "name": "stdout",
          "text": [
            "Enter number you guessed:- 193\n",
            "Fermi!! Pico!! Pico!! \n",
            "Enter number you guessed:- 391\n",
            "Pico!! Pico!! Pico!! \n",
            "Enter number you guessed:- 319\n",
            "Pico!! Pico!! Fermi!! \n",
            "Enter number you guessed:- 319\n",
            "Pico!! Pico!! Fermi!! \n",
            "Enter number you guessed:- 913\n",
            "Pico!! Pico!! Pico!! \n",
            "Enter number you guessed:- 139\n",
            "Fermi!! Fermi!! Fermi!! \n",
            "you Win!!!!\n"
          ]
        }
      ],
      "source": [
        "## PICO FERMI BAGELS\n",
        "original_number = '139'\n",
        "while True:\n",
        "  guess_number = str(input(\"Enter number you guessed:- \"))\n",
        "  output = []\n",
        "  if int(guess_number[0]) == 0:\n",
        "    print(\"Invalid number!!!\")\n",
        "  if len(original_number) != len(guess_number):\n",
        "    print('length is not equal to 3 digit')\n",
        "    continue\n",
        "  set1 = set(guess_number)\n",
        "  if len(set1) < len(original_number):\n",
        "    print('Duplicate number')\n",
        "\n",
        "  for i in range(len(original_number)):\n",
        "    if guess_number[i]==original_number[i]:\n",
        "      output.append('Fermi!!')\n",
        "    elif guess_number[i] in original_number:\n",
        "      output.append('Pico!!')\n",
        "  output_string = ''\n",
        "  for i in output:\n",
        "    output_string += i+\" \"\n",
        "  print(output_string)\n",
        "  if original_number == guess_number:\n",
        "    print('you Win!!!!')\n",
        "    break\n",
        "  if len(output)==0:\n",
        "    print('Bagel!!!!')"
      ]
    },
    {
      "cell_type": "code",
      "source": [],
      "metadata": {
        "id": "PcpTXlt64w40"
      },
      "execution_count": null,
      "outputs": []
    }
  ]
}