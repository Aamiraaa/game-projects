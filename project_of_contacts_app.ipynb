{
  "nbformat": 4,
  "nbformat_minor": 0,
  "metadata": {
    "colab": {
      "provenance": []
    },
    "kernelspec": {
      "name": "python3",
      "display_name": "Python 3"
    },
    "language_info": {
      "name": "python"
    }
  },
  "cells": [
    {
      "cell_type": "code",
      "execution_count": null,
      "metadata": {
        "colab": {
          "base_uri": "https://localhost:8080/"
        },
        "id": "M-vse-b3Ha7c",
        "outputId": "7d5be671-57f0-4472-dc64-32f879ca0e4c"
      },
      "outputs": [
        {
          "output_type": "stream",
          "name": "stdout",
          "text": [
            "{'Name': 'Rahul', 'Number': 7477078960, 'Email': 'Rahul99@gmail.com'}\n",
            "{'Name': 'Priya', 'Number': 8998857894, 'Email': 'Priya98@gmail.com'}\n",
            "{'Name': 'Chinki', 'Number': 9968745214, 'Email': 'Chink897@gmail.com'}\n"
          ]
        }
      ],
      "source": [
        "## i take 3 dummy contacts\n",
        "\n",
        "def show_contacts():\n",
        "    for i in contacts:\n",
        "      print(i)\n",
        "contacts = [ {'Name':'Rahul','Number':7477078960,'Email':'Rahul99@gmail.com'},\n",
        "{'Name':'Priya','Number':8998857894,'Email':'Priya98@gmail.com'},\n",
        "{'Name':'Chinki','Number':9968745214,'Email':'Chink897@gmail.com'} ]\n",
        "show_contacts()"
      ]
    },
    {
      "cell_type": "code",
      "source": [
        "def add_contact(contacts):\n",
        "    dict1 = {}\n",
        "    dict1['Name']=input('Enter your Name:- ')\n",
        "    dict1['Number']=input('Enter your Number:- ')\n",
        "    dict1['Email']=input('Enter your Email:- ')\n",
        "    contacts.append(dict1)\n",
        "    print(contacts)\n",
        "add_contact(contacts)"
      ],
      "metadata": {
        "colab": {
          "base_uri": "https://localhost:8080/"
        },
        "id": "z6Ng9CQHJDnG",
        "outputId": "68af0a97-52cf-420d-ff01-8aa6b6a111f8"
      },
      "execution_count": null,
      "outputs": [
        {
          "output_type": "stream",
          "name": "stdout",
          "text": [
            "Enter your Name:- Sam\n",
            "Enter your Number:- 7899885544\n",
            "Enter your Email:- Sam78@gmail.com\n",
            "[{'Name': 'Rahul', 'Number': 7477078960, 'Email': 'Rahul99@gmail.com'}, {'Name': 'Priya', 'Number': 8998857894, 'Email': 'Priya98@gmail.com'}, {'Name': 'Chinki', 'Number': 9968745214, 'Email': 'Chink897@gmail.com'}, {'Name': 'Sam', 'Number': '7899885544', 'Email': 'Sam78@gmail.com'}]\n"
          ]
        }
      ]
    },
    {
      "cell_type": "code",
      "source": [
        "def open_contact(contacts, name):\n",
        "    for i in contacts:\n",
        "      if i['Name']==name:\n",
        "        print(i)\n",
        "        break\n",
        "    else:\n",
        "      print('No match found!!!')\n",
        "open_contact(contacts,'Rahul')"
      ],
      "metadata": {
        "colab": {
          "base_uri": "https://localhost:8080/"
        },
        "id": "tchbWomkJtlZ",
        "outputId": "35c10fcc-5dd3-4ecb-e33a-95e169e4fe66"
      },
      "execution_count": null,
      "outputs": [
        {
          "output_type": "stream",
          "name": "stdout",
          "text": [
            "{'Name': 'Rahul', 'Number': 7477078960, 'Email': 'Rahul99@gmail.com'}\n"
          ]
        }
      ]
    },
    {
      "cell_type": "code",
      "source": [
        "def delete_contact(contacts, name):\n",
        "    for i in contacts:\n",
        "      if i['Name']==name:\n",
        "        contacts.remove(i)\n",
        "    return contacts\n",
        "delete_contact(contacts, 'Rahul')"
      ],
      "metadata": {
        "colab": {
          "base_uri": "https://localhost:8080/"
        },
        "id": "-WjWB0HcJKg-",
        "outputId": "579f1ca4-cb4e-4050-f445-7517d02d2664"
      },
      "execution_count": null,
      "outputs": [
        {
          "output_type": "execute_result",
          "data": {
            "text/plain": [
              "[{'Name': 'Priya', 'Number': 8998857894, 'Email': 'Priya98@gmail.com'},\n",
              " {'Name': 'Chinki', 'Number': 9968745214, 'Email': 'Chink897@gmail.com'},\n",
              " {'Name': 'Sam', 'Number': '7899885544', 'Email': 'Sam78@gmail.com'}]"
            ]
          },
          "metadata": {},
          "execution_count": 4
        }
      ]
    },
    {
      "cell_type": "code",
      "source": [
        "def update_contact(contacts, name):\n",
        "  for i in contacts:\n",
        "    if i['Name']==name:\n",
        "      i['Name']=input('Enter Name: ')\n",
        "      i['Number']=input('Enter number: ')\n",
        "      i['Email']=input('Enter mail: ')\n",
        "  return contacts\n",
        "update_contact(contacts,'Sam')"
      ],
      "metadata": {
        "colab": {
          "base_uri": "https://localhost:8080/"
        },
        "id": "GBXXLzYDJaHW",
        "outputId": "b08e1fc9-d726-4248-f7b7-ba5851c4a4d2"
      },
      "execution_count": null,
      "outputs": [
        {
          "name": "stdout",
          "output_type": "stream",
          "text": [
            "Enter Name: Tom\n",
            "Enter number: 7899587461\n",
            "Enter mail: Tom5@gmail.com\n"
          ]
        },
        {
          "output_type": "execute_result",
          "data": {
            "text/plain": [
              "[{'Name': 'Priya', 'Number': 8998857894, 'Email': 'Priya98@gmail.com'},\n",
              " {'Name': 'Chinki', 'Number': 9968745214, 'Email': 'Chink897@gmail.com'},\n",
              " {'Name': 'Tom', 'Number': '7899587461', 'Email': 'Tom5@gmail.com'}]"
            ]
          },
          "metadata": {},
          "execution_count": 5
        }
      ]
    },
    {
      "cell_type": "code",
      "source": [
        "##if you type u, contacts will be update and type d, contacts will be delete...\n",
        "def open_contact():\n",
        "    menu = input()\n",
        "    if menu == 'u':\n",
        "      (update_contact(contacts,'Sam'))\n",
        "    elif menu == 'd':\n",
        "      (delete_contact(contacts, 'Rahul'))\n",
        "    else:\n",
        "      print('print the correct key!!!!!?')\n",
        "open_contact()"
      ],
      "metadata": {
        "colab": {
          "base_uri": "https://localhost:8080/"
        },
        "id": "F7AuPU3UJeny",
        "outputId": "a18b1544-2676-4354-8841-7ff008de1e88"
      },
      "execution_count": null,
      "outputs": [
        {
          "name": "stdout",
          "output_type": "stream",
          "text": [
            "u\n"
          ]
        }
      ]
    },
    {
      "cell_type": "code",
      "source": [
        "from IPython.lib.security import passwd_check\n",
        "from IPython.display import clear_output\n",
        "\n",
        "while True:\n",
        "    show_contacts()   ## show all contacts\n",
        "\n",
        "    action = input(\"Press 'a' - add contact, 'o' - open contact, 's' - search contact, 'q' - quit\")\n",
        "    if action == 'a':\n",
        "      add_contact(contacts)        ## add contact\n",
        "\n",
        "    elif action == 'o':\n",
        "        name = input(\"Enter name of the contact you want to open. \")\n",
        "        open_contact(contacts,name)        ## open contact\n",
        "\n",
        "    elif action == 'q':  ##quit\n",
        "      break\n",
        "\n",
        "    else:\n",
        "      print('incorrect choice')"
      ],
      "metadata": {
        "colab": {
          "base_uri": "https://localhost:8080/"
        },
        "id": "hKkdrH78KlxK",
        "outputId": "15b83a93-6341-456d-8720-50ba0b0a8130"
      },
      "execution_count": null,
      "outputs": [
        {
          "name": "stdout",
          "output_type": "stream",
          "text": [
            "{'Name': 'Priya', 'Number': 8998857894, 'Email': 'Priya98@gmail.com'}\n",
            "{'Name': 'Chinki', 'Number': 9968745214, 'Email': 'Chink897@gmail.com'}\n",
            "{'Name': 'Tom', 'Number': '7899587461', 'Email': 'Tom5@gmail.com'}\n",
            "Press 'a' - add contact, 'o' - open contact, 's' - search contact, 'q' - quitq\n"
          ]
        }
      ]
    },
    {
      "cell_type": "code",
      "source": [
        "## with file\n",
        "import os\n",
        "os.getcwd()\n",
        "contacts = '''vivek, vivek@gmail.com, 9921668254\n",
        "ankur, ankur@gmail.com, 8806807004\n",
        "pranav, pranav@gmail.com, 987654321'''\n",
        "\n",
        "file = open('/content/contacts.txt','w')\n",
        "file.write(contacts)\n",
        "\n",
        "file = open('/content/contacts.txt')\n",
        "data = file.readlines()\n",
        "del_contacts =\"\"\n",
        "for i in data:\n",
        "  if 'vivek' in i:\n",
        "    pass\n",
        "  else:\n",
        "    del_contacts +=i\n",
        "with open('/content/contacts.txt','w') as file:\n",
        "  file.write(del_contacts)\n",
        "\n",
        "new_contacts = '\\nPriya, Priya98@gmail.com ,8998857894'\n",
        "with open('/content/contacts.txt','a') as file:\n",
        "  file.write(new_contacts)\n"
      ],
      "metadata": {
        "id": "k2Vw7H_jOAYy"
      },
      "execution_count": null,
      "outputs": []
    }
  ]
}